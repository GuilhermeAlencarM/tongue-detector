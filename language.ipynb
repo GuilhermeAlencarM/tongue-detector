{
  "cells": [
    {
      "cell_type": "code",
      "execution_count": 16,
      "metadata": {
        "id": "gikZ1IjDrOeI"
      },
      "outputs": [],
      "source": [
        "import pandas as pd\n",
        "from sklearn.model_selection import cross_val_score\n",
        "from sklearn.model_selection import train_test_split\n",
        "from sklearn.feature_extraction.text import TfidfVectorizer\n",
        "from sklearn.naive_bayes import MultinomialNB\n",
        "from sklearn.metrics import classification_report, accuracy_score\n",
        "from sklearn.pipeline import make_pipeline"
      ]
    },
    {
      "cell_type": "code",
      "execution_count": 17,
      "metadata": {
        "colab": {
          "base_uri": "https://localhost:8080/",
          "height": 423
        },
        "id": "4FA3rd5ArbwS",
        "outputId": "d8cbbebd-7ff3-40c0-affd-1504d3d40f79"
      },
      "outputs": [
        {
          "data": {
            "text/html": [
              "<div>\n",
              "<style scoped>\n",
              "    .dataframe tbody tr th:only-of-type {\n",
              "        vertical-align: middle;\n",
              "    }\n",
              "\n",
              "    .dataframe tbody tr th {\n",
              "        vertical-align: top;\n",
              "    }\n",
              "\n",
              "    .dataframe thead th {\n",
              "        text-align: right;\n",
              "    }\n",
              "</style>\n",
              "<table border=\"1\" class=\"dataframe\">\n",
              "  <thead>\n",
              "    <tr style=\"text-align: right;\">\n",
              "      <th></th>\n",
              "      <th>Text</th>\n",
              "      <th>language</th>\n",
              "    </tr>\n",
              "  </thead>\n",
              "  <tbody>\n",
              "    <tr>\n",
              "      <th>0</th>\n",
              "      <td>klement gottwaldi surnukeha palsameeriti ning ...</td>\n",
              "      <td>Estonian</td>\n",
              "    </tr>\n",
              "    <tr>\n",
              "      <th>1</th>\n",
              "      <td>sebes joseph pereira thomas  på eng the jesuit...</td>\n",
              "      <td>Swedish</td>\n",
              "    </tr>\n",
              "    <tr>\n",
              "      <th>2</th>\n",
              "      <td>ถนนเจริญกรุง อักษรโรมัน thanon charoen krung เ...</td>\n",
              "      <td>Thai</td>\n",
              "    </tr>\n",
              "    <tr>\n",
              "      <th>3</th>\n",
              "      <td>விசாகப்பட்டினம் தமிழ்ச்சங்கத்தை இந்துப் பத்திர...</td>\n",
              "      <td>Tamil</td>\n",
              "    </tr>\n",
              "    <tr>\n",
              "      <th>4</th>\n",
              "      <td>de spons behoort tot het geslacht haliclona en...</td>\n",
              "      <td>Dutch</td>\n",
              "    </tr>\n",
              "    <tr>\n",
              "      <th>...</th>\n",
              "      <td>...</td>\n",
              "      <td>...</td>\n",
              "    </tr>\n",
              "    <tr>\n",
              "      <th>21995</th>\n",
              "      <td>hors du terrain les années  et  sont des année...</td>\n",
              "      <td>French</td>\n",
              "    </tr>\n",
              "    <tr>\n",
              "      <th>21996</th>\n",
              "      <td>ใน พศ  หลักจากที่เสด็จประพาสแหลมมลายู ชวา อินเ...</td>\n",
              "      <td>Thai</td>\n",
              "    </tr>\n",
              "    <tr>\n",
              "      <th>21997</th>\n",
              "      <td>con motivo de la celebración del septuagésimoq...</td>\n",
              "      <td>Spanish</td>\n",
              "    </tr>\n",
              "    <tr>\n",
              "      <th>21998</th>\n",
              "      <td>年月，當時還只有歲的她在美國出道，以mai-k名義推出首張英文《baby i like》，由...</td>\n",
              "      <td>Chinese</td>\n",
              "    </tr>\n",
              "    <tr>\n",
              "      <th>21999</th>\n",
              "      <td>aprilie sonda spațială messenger a nasa și-a ...</td>\n",
              "      <td>Romanian</td>\n",
              "    </tr>\n",
              "  </tbody>\n",
              "</table>\n",
              "<p>22000 rows × 2 columns</p>\n",
              "</div>"
            ],
            "text/plain": [
              "                                                    Text  language\n",
              "0      klement gottwaldi surnukeha palsameeriti ning ...  Estonian\n",
              "1      sebes joseph pereira thomas  på eng the jesuit...   Swedish\n",
              "2      ถนนเจริญกรุง อักษรโรมัน thanon charoen krung เ...      Thai\n",
              "3      விசாகப்பட்டினம் தமிழ்ச்சங்கத்தை இந்துப் பத்திர...     Tamil\n",
              "4      de spons behoort tot het geslacht haliclona en...     Dutch\n",
              "...                                                  ...       ...\n",
              "21995  hors du terrain les années  et  sont des année...    French\n",
              "21996  ใน พศ  หลักจากที่เสด็จประพาสแหลมมลายู ชวา อินเ...      Thai\n",
              "21997  con motivo de la celebración del septuagésimoq...   Spanish\n",
              "21998  年月，當時還只有歲的她在美國出道，以mai-k名義推出首張英文《baby i like》，由...   Chinese\n",
              "21999   aprilie sonda spațială messenger a nasa și-a ...  Romanian\n",
              "\n",
              "[22000 rows x 2 columns]"
            ]
          },
          "execution_count": 17,
          "metadata": {},
          "output_type": "execute_result"
        }
      ],
      "source": [
        "import pandas as pd\n",
        "data = pd.read_csv('datasets/dataset.csv')\n",
        "data"
      ]
    },
    {
      "cell_type": "code",
      "execution_count": 18,
      "metadata": {
        "colab": {
          "base_uri": "https://localhost:8080/",
          "height": 206
        },
        "id": "qtXnOWGWuT6g",
        "outputId": "7879a5c5-a7c2-4552-d0e5-1d01e93fcfac"
      },
      "outputs": [
        {
          "data": {
            "text/html": [
              "<div>\n",
              "<style scoped>\n",
              "    .dataframe tbody tr th:only-of-type {\n",
              "        vertical-align: middle;\n",
              "    }\n",
              "\n",
              "    .dataframe tbody tr th {\n",
              "        vertical-align: top;\n",
              "    }\n",
              "\n",
              "    .dataframe thead th {\n",
              "        text-align: right;\n",
              "    }\n",
              "</style>\n",
              "<table border=\"1\" class=\"dataframe\">\n",
              "  <thead>\n",
              "    <tr style=\"text-align: right;\">\n",
              "      <th></th>\n",
              "      <th>texto</th>\n",
              "      <th>lingua</th>\n",
              "    </tr>\n",
              "  </thead>\n",
              "  <tbody>\n",
              "    <tr>\n",
              "      <th>0</th>\n",
              "      <td>klement gottwaldi surnukeha palsameeriti ning ...</td>\n",
              "      <td>Estonian</td>\n",
              "    </tr>\n",
              "    <tr>\n",
              "      <th>1</th>\n",
              "      <td>sebes joseph pereira thomas  på eng the jesuit...</td>\n",
              "      <td>Swedish</td>\n",
              "    </tr>\n",
              "    <tr>\n",
              "      <th>2</th>\n",
              "      <td>ถนนเจริญกรุง อักษรโรมัน thanon charoen krung เ...</td>\n",
              "      <td>Thai</td>\n",
              "    </tr>\n",
              "    <tr>\n",
              "      <th>3</th>\n",
              "      <td>விசாகப்பட்டினம் தமிழ்ச்சங்கத்தை இந்துப் பத்திர...</td>\n",
              "      <td>Tamil</td>\n",
              "    </tr>\n",
              "    <tr>\n",
              "      <th>4</th>\n",
              "      <td>de spons behoort tot het geslacht haliclona en...</td>\n",
              "      <td>Dutch</td>\n",
              "    </tr>\n",
              "  </tbody>\n",
              "</table>\n",
              "</div>"
            ],
            "text/plain": [
              "                                               texto    lingua\n",
              "0  klement gottwaldi surnukeha palsameeriti ning ...  Estonian\n",
              "1  sebes joseph pereira thomas  på eng the jesuit...   Swedish\n",
              "2  ถนนเจริญกรุง อักษรโรมัน thanon charoen krung เ...      Thai\n",
              "3  விசாகப்பட்டினம் தமிழ்ச்சங்கத்தை இந்துப் பத்திர...     Tamil\n",
              "4  de spons behoort tot het geslacht haliclona en...     Dutch"
            ]
          },
          "execution_count": 18,
          "metadata": {},
          "output_type": "execute_result"
        }
      ],
      "source": [
        "change_names = {\n",
        "    'Text': 'texto',\n",
        "    'language': 'lingua'\n",
        "}\n",
        "\n",
        "data = data.rename(columns=change_names)\n",
        "data.head()"
      ]
    },
    {
      "cell_type": "code",
      "execution_count": 19,
      "metadata": {
        "colab": {
          "base_uri": "https://localhost:8080/"
        },
        "id": "q_Ubm6B3zbHj",
        "outputId": "f046e549-3cc2-4660-d6ea-08f368dcfa58"
      },
      "outputs": [
        {
          "name": "stdout",
          "output_type": "stream",
          "text": [
            "Estonian      1000\n",
            "Swedish       1000\n",
            "English       1000\n",
            "Russian       1000\n",
            "Romanian      1000\n",
            "Persian       1000\n",
            "Pushto        1000\n",
            "Spanish       1000\n",
            "Hindi         1000\n",
            "Korean        1000\n",
            "Chinese       1000\n",
            "French        1000\n",
            "Portugese     1000\n",
            "Indonesian    1000\n",
            "Urdu          1000\n",
            "Latin         1000\n",
            "Turkish       1000\n",
            "Japanese      1000\n",
            "Dutch         1000\n",
            "Tamil         1000\n",
            "Thai          1000\n",
            "Arabic        1000\n",
            "Name: lingua, dtype: int64\n"
          ]
        }
      ],
      "source": [
        "contagem_idiomas = data['lingua'].value_counts()\n",
        "\n",
        "print(contagem_idiomas)\n"
      ]
    },
    {
      "cell_type": "code",
      "execution_count": 20,
      "metadata": {
        "colab": {
          "base_uri": "https://localhost:8080/",
          "height": 712
        },
        "id": "mFTUTDYousZj",
        "outputId": "b36a35fe-8ea4-4593-abb0-7934ead13baf"
      },
      "outputs": [
        {
          "data": {
            "image/png": "[encoded data removed]",
            "text/plain": [
              "<Figure size 720x432 with 1 Axes>"
            ]
          },
          "metadata": {},
          "output_type": "display_data"
        }
      ],
      "source": [
        "import seaborn as sns\n",
        "import matplotlib.pyplot as plt\n",
        "\n",
        "# Configurações estéticas\n",
        "sns.set(style=\"whitegrid\")\n",
        "plt.figure(figsize=(10, 6))  # Ajusta o tamanho da figura\n",
        "\n",
        "# Plotagem do gráfico de contagem\n",
        "sns.countplot(data=data, x=\"lingua\", palette=\"Set2\")  # Utiliza a paleta de cores Set2\n",
        "\n",
        "# Adiciona rótulos aos eixos\n",
        "plt.xlabel(\"Língua\")\n",
        "plt.ylabel(\"Contagem\")\n",
        "plt.title(\"Contagem de Textos por Língua\")\n",
        "\n",
        "# Rotaciona os rótulos no eixo x para melhorar a legibilidade\n",
        "plt.xticks(rotation=45, ha='right')\n",
        "\n",
        "# Exibe o gráfico\n",
        "plt.tight_layout()  # Ajusta o layout para evitar sobreposição de elementos\n",
        "plt.show()\n"
      ]
    },
    {
      "cell_type": "code",
      "execution_count": 21,
      "metadata": {
        "id": "ep0TekMGu5Q_"
      },
      "outputs": [],
      "source": [
        "# Divisão dos dados em conjuntos de treinamento e teste\n",
        "X_train, X_test, y_train, y_test = train_test_split(data['texto'], data['lingua'], test_size=0.2, random_state=42)"
      ]
    },
    {
      "cell_type": "code",
      "execution_count": 22,
      "metadata": {
        "id": "W7esuZHSu9Vo"
      },
      "outputs": [],
      "source": [
        "#Criar um pipeline que primeiro vetoriza o texto e depois aplica Naive Bayes\n",
        "model = make_pipeline(TfidfVectorizer(), MultinomialNB())"
      ]
    },
    {
      "cell_type": "code",
      "execution_count": 23,
      "metadata": {
        "colab": {
          "base_uri": "https://localhost:8080/",
          "height": 126
        },
        "id": "DlnAp8kUu-rm",
        "outputId": "2b9a418a-a3b3-49bd-98ba-ff937f63ed8f"
      },
      "outputs": [
        {
          "data": {
            "text/plain": [
              "Pipeline(steps=[('tfidfvectorizer', TfidfVectorizer()),\n",
              "                ('multinomialnb', MultinomialNB())])"
            ]
          },
          "execution_count": 23,
          "metadata": {},
          "output_type": "execute_result"
        }
      ],
      "source": [
        "# Treinar o modelo\n",
        "model.fit(X_train, y_train)"
      ]
    },
    {
      "cell_type": "code",
      "execution_count": 24,
      "metadata": {
        "id": "AIY1jppYvBSA"
      },
      "outputs": [],
      "source": [
        "# Fazer previsões no conjunto de teste\n",
        "y_pred = model.predict(X_test)"
      ]
    },
    {
      "cell_type": "code",
      "execution_count": 25,
      "metadata": {
        "colab": {
          "base_uri": "https://localhost:8080/"
        },
        "id": "lUvJCv3OvC4A",
        "outputId": "ab0edac5-8d7c-472a-e0ac-cccf0ce8c997"
      },
      "outputs": [
        {
          "data": {
            "text/plain": [
              "('/content/dataset_sentimentos.csv',\n",
              " 0.9429545454545455,\n",
              " '              precision    recall  f1-score   support\\n\\n      Arabic       1.00      1.00      1.00       202\\n     Chinese       0.95      0.50      0.65       201\\n       Dutch       0.99      0.98      0.98       230\\n     English       0.69      1.00      0.82       194\\n    Estonian       0.99      0.95      0.97       200\\n      French       0.93      0.99      0.96       188\\n       Hindi       1.00      0.99      0.99       208\\n  Indonesian       1.00      0.98      0.99       213\\n    Japanese       0.98      0.64      0.78       194\\n      Korean       1.00      0.99      1.00       190\\n       Latin       0.99      0.90      0.95       210\\n     Persian       0.99      0.99      0.99       196\\n   Portugese       0.99      0.97      0.98       194\\n      Pushto       1.00      0.96      0.98       196\\n    Romanian       0.98      0.98      0.98       197\\n     Russian       0.99      0.99      0.99       213\\n     Spanish       0.97      0.99      0.98       199\\n     Swedish       0.60      1.00      0.75       179\\n       Tamil       1.00      0.99      1.00       198\\n        Thai       1.00      0.98      0.99       196\\n     Turkish       0.99      0.98      0.99       199\\n        Urdu       1.00      0.98      0.99       203\\n\\n    accuracy                           0.94      4400\\n   macro avg       0.96      0.94      0.94      4400\\nweighted avg       0.96      0.94      0.94      4400\\n')"
            ]
          },
          "execution_count": 25,
          "metadata": {},
          "output_type": "execute_result"
        }
      ],
      "source": [
        "# Avaliar o modelo\n",
        "accuracy = accuracy_score(y_test, y_pred)\n",
        "report = classification_report(y_test, y_pred)\n",
        "\n",
        "\"/content/dataset_sentimentos.csv\", accuracy, report"
      ]
    },
    {
      "cell_type": "code",
      "execution_count": 26,
      "metadata": {
        "colab": {
          "base_uri": "https://localhost:8080/"
        },
        "id": "OVPBdDf2vFHJ",
        "outputId": "4cbe01a0-4595-4f1e-c4a5-2e971792ebda"
      },
      "outputs": [
        {
          "name": "stdout",
          "output_type": "stream",
          "text": [
            "0.9429545454545455\n"
          ]
        }
      ],
      "source": [
        "print(accuracy_score(y_test,y_pred))"
      ]
    },
    {
      "cell_type": "code",
      "execution_count": 27,
      "metadata": {
        "colab": {
          "base_uri": "https://localhost:8080/"
        },
        "id": "dqVQW_sdvlx8",
        "outputId": "259f6caa-272f-4749-d87d-77e39d00358d"
      },
      "outputs": [
        {
          "name": "stdout",
          "output_type": "stream",
          "text": [
            "Accuracy scores for each fold: [0.94204545 0.94375    0.93693182 0.94204545 0.93977273]\n",
            "Mean accuracy: 0.9409090909090908\n"
          ]
        }
      ],
      "source": [
        "cv_scores = cross_val_score(model, X_train, y_train, cv=5)  # 5-fold cross-validation\n",
        "\n",
        "print(\"Accuracy scores for each fold:\", cv_scores)\n",
        "print(\"Mean accuracy:\", cv_scores.mean())"
      ]
    },
    {
      "cell_type": "code",
      "execution_count": 28,
      "metadata": {
        "colab": {
          "base_uri": "https://localhost:8080/"
        },
        "id": "nBHDPJfRvNt0",
        "outputId": "efa40a8f-16c8-4bae-a0a3-cd45c63a9e3a"
      },
      "outputs": [
        {
          "name": "stdout",
          "output_type": "stream",
          "text": [
            "O texto 'This is a test sentence.' está escrito em English.\n",
            "O texto 'Esta es una oración de prueba.' está escrito em Spanish.\n",
            "O texto '한국에서 성씨가 사용되기 시작한 정확한 시기는 알 수 없으나 한자漢字 등 중국 문물이 수입...' está escrito em Korean.\n",
            "O texto 'महाराष्ट्र  मई  को भारत का राज्य बनाया गया था। इस ...' está escrito em Hindi.\n",
            "O texto 'tsutinalar i̇ngilizce tsuutina kanadada alberta bö...' está escrito em Turkish.\n",
            "O texto 'Estonia on Baltimaade riik.' está escrito em Estonian.\n",
            "O texto 'Detta är en testmening.' está escrito em Swedish.\n",
            "O texto 'Это тестовое предложение.' está escrito em Russian.\n",
            "O texto 'Acesta este un test de propoziție.' está escrito em Romanian.\n",
            "O texto 'این یک جمله آزمایشی است.' está escrito em Persian.\n",
            "O texto 'دا د یو کمپیوټر پروګرامګر جاپاني کوله او په یادښت...' está escrito em Pushto.\n",
            "O texto '這是一個測試句子。' está escrito em Swedish.\n",
            "O texto 'C'est une phrase de test.' está escrito em French.\n",
            "O texto 'Esta é uma frase de teste.' está escrito em Portugese.\n",
            "O texto 'Ini adalah kalimat uji.' está escrito em Indonesian.\n",
            "O texto 'یہ ایک ٹیسٹ جملہ ہے۔' está escrito em Urdu.\n",
            "O texto 'Hoc est testis sententia.' está escrito em Latin.\n",
            "O texto 'これはテスト文です。' está escrito em Swedish.\n",
            "O texto 'Dit is een testzin.' está escrito em Dutch.\n",
            "O texto 'இது ஒரு சோதனை வாக்குமூலமாகும்.' está escrito em Tamil.\n",
            "O texto 'นี่เป็นประโยคทดสอบ' está escrito em Thai.\n",
            "O texto 'هذه جملة اختبار.' está escrito em Arabic.\n"
          ]
        }
      ],
      "source": [
        "# Função para prever a língua de um texto dado\n",
        "def prever_lingua(texto):\n",
        "    lingua_predita = model.predict([texto])[0]\n",
        "    print(f\"O texto '{texto}' está escrito em {lingua_predita}.\")\n",
        "\n",
        "# Exemplos de teste com a função\n",
        "prever_lingua(\"This is a test sentence.\")  # Teste em English\n",
        "prever_lingua(\"Esta es una oración de prueba.\")  # Teste em espanhol\n",
        "prever_lingua(\"한국에서 성씨가 사용되기 시작한 정확한 시기는 알 수 없으나 한자漢字 등 중국 문물이 수입...\")  # Teste em Korean\n",
        "prever_lingua(\"महाराष्ट्र  मई  को भारत का राज्य बनाया गया था। इस ...\")  # Teste em Hindi\n",
        "prever_lingua(\"tsutinalar i̇ngilizce tsuutina kanadada alberta bö...\")  # Teste em Turkish\n",
        "prever_lingua(\"Estonia on Baltimaade riik.\")  # Teste em Estonian\n",
        "prever_lingua(\"Detta är en testmening.\")  # Teste em Swedish\n",
        "prever_lingua(\"Это тестовое предложение.\")  # Teste em Russian\n",
        "prever_lingua(\"Acesta este un test de propoziție.\")  # Teste em Romanian\n",
        "prever_lingua(\"این یک جمله آزمایشی است.\")  # Teste em Persian\n",
        "prever_lingua(\"دا د یو کمپیوټر پروګرامګر جاپاني کوله او په یادښت...\")  # Teste em Pushto (Afegão)\n",
        "prever_lingua(\"這是一個測試句子。\")  # Teste em Chinese\n",
        "prever_lingua(\"C'est une phrase de test.\")  # Teste em French\n",
        "prever_lingua(\"Esta é uma frase de teste.\")  # Teste em Português\n",
        "prever_lingua(\"Ini adalah kalimat uji.\")  # Teste em Indonesian\n",
        "prever_lingua(\"یہ ایک ٹیسٹ جملہ ہے۔\")  # Teste em Urdu\n",
        "prever_lingua(\"Hoc est testis sententia.\")  # Teste em Latin\n",
        "prever_lingua(\"これはテスト文です。\")  # Teste em Japanese\n",
        "prever_lingua(\"Dit is een testzin.\")  # Teste em Dutch\n",
        "prever_lingua(\"இது ஒரு சோதனை வாக்குமூலமாகும்.\")  # Teste em Tamil\n",
        "prever_lingua(\"นี่เป็นประโยคทดสอบ\")  # Teste em Thai\n",
        "prever_lingua(\"هذه جملة اختبار.\")  # Teste em Arabic\n",
        "\n"
      ]
    },
    {
      "cell_type": "code",
      "execution_count": 30,
      "metadata": {
        "colab": {
          "base_uri": "https://localhost:8080/"
        },
        "id": "W2Tz9rXr9cqP",
        "outputId": "fa32b625-3327-4661-a49a-b28074e59628"
      },
      "outputs": [
        {
          "name": "stdout",
          "output_type": "stream",
          "text": [
            "Modelo salvo como modelo_linguagem.joblib\n"
          ]
        }
      ],
      "source": [
        "import joblib\n",
        "\n",
        "# Nome do arquivo para salvar o modelo\n",
        "filename = 'modelo_linguagem.joblib'\n",
        "\n",
        "# Salvar o modelo utilizando joblib\n",
        "joblib.dump(model, filename)\n",
        "\n",
        "print(f\"Modelo salvo como {filename}\")\n"
      ]
    }
  ],
  "metadata": {
    "colab": {
      "provenance": []
    },
    "kernelspec": {
      "display_name": "Python 3",
      "name": "python3"
    },
    "language_info": {
      "codemirror_mode": {
        "name": "ipython",
        "version": 3
      },
      "file_extension": ".py",
      "mimetype": "text/x-python",
      "name": "python",
      "nbconvert_exporter": "python",
      "pygments_lexer": "ipython3",
      "version": "3.9.12"
    }
  },
  "nbformat": 4,
  "nbformat_minor": 0
}
